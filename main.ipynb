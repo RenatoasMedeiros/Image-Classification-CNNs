{
 "cells": [
  {
   "cell_type": "code",
   "execution_count": null,
   "metadata": {},
   "outputs": [],
   "source": [
    "#Import Libraries\n",
    "from keras.models import Sequential, load_model\n",
    "from keras.layers import Activation, Dropout, Flatten, Dense, Rescaling, BatchNormalization, Conv2D, MaxPooling2D, SpatialDropout2D, AveragePooling2D\n",
    "from keras.callbacks import ModelCheckpoint\n",
    "from numpy import load\n",
    "from tensorboard import version\n",
    "\n",
    "#To clean the session\n",
    "import keras.backend as K\n",
    "from keras.preprocessing import image\n",
    "from sklearn.model_selection import train_test_split, KFold\n",
    "from sklearn.metrics import precision_score, recall_score, f1_score, confusion_matrix, ConfusionMatrixDisplay, accuracy_score\n",
    "\n",
    "import os, datetime\n",
    "import numpy as np\n",
    "import tensorflow as tf\n",
    "import matplotlib.pyplot as plt\n",
    "import sklearn.datasets\n",
    "import gc"
   ]
  },
  {
   "cell_type": "code",
   "execution_count": null,
   "metadata": {},
   "outputs": [],
   "source": [
    "#Import and check tensorflow version\n",
    "\n",
    "print(tf.__version__)\n",
    "\n",
    "#check if GPU is available\n",
    "print(\"Num GPUs Available: \", len(tf.config.list_physical_devices('GPU')))\n",
    "\n",
    "print(\"tensorboard.version.VERSION: \", version.VERSION)"
   ]
  },
  {
   "cell_type": "code",
   "execution_count": 3,
   "metadata": {},
   "outputs": [
    {
     "name": "stdout",
     "output_type": "stream",
     "text": [
      "Path to train folder: ./dataset/train/train3\n",
      "Path to train folder: ./dataset/train/train2\n",
      "Path to train folder: ./dataset/train/train1\n",
      "Path to train folder: ./dataset/train/train5\n"
     ]
    }
   ],
   "source": [
    "train_dir = './dataset/train'\n",
    "validation_dir = './dataset/validation/train4'\n",
    "test_dir = './dataset/test/test/'\n",
    "\n",
    "# List all the train folders\n",
    "train_folders = [folder for folder in os.listdir(train_dir) if folder.startswith('train')]\n",
    "\n",
    "# Iterate over each train folder\n",
    "for train_folder in train_folders:\n",
    "    train_path = os.path.join(train_dir, train_folder)\n",
    "    print(\"Path to train folder:\", train_path)"
   ]
  },
  {
   "cell_type": "code",
   "execution_count": null,
   "metadata": {},
   "outputs": [],
   "source": []
  }
 ],
 "metadata": {
  "kernelspec": {
   "display_name": "Python 3",
   "language": "python",
   "name": "python3"
  },
  "language_info": {
   "codemirror_mode": {
    "name": "ipython",
    "version": 3
   },
   "file_extension": ".py",
   "mimetype": "text/x-python",
   "name": "python",
   "nbconvert_exporter": "python",
   "pygments_lexer": "ipython3",
   "version": "3.10.12"
  }
 },
 "nbformat": 4,
 "nbformat_minor": 2
}

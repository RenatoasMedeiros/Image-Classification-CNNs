{
 "cells": [
  {
   "cell_type": "code",
   "execution_count": null,
   "metadata": {},
   "outputs": [
    {
     "ename": "",
     "evalue": "",
     "output_type": "error",
     "traceback": [
      "\u001b[1;31mRunning cells with 'Python 3.10.12' requires the ipykernel package.\n",
      "\u001b[1;31mRun the following command to install 'ipykernel' into the Python environment. \n",
      "\u001b[1;31mCommand: '/bin/python3 -m pip install ipykernel -U --user --force-reinstall'"
     ]
    }
   ],
   "source": [
    "import os, shutil\n",
    "train_dir = './dataset/train'\n",
    "validation_dir = './dataset/validation'\n",
    "test_dir = './dataset/test'\n",
    "train_cats_dirs = [('./dataset/train/train{i}/003_cat') for i in [1, 2, 3, 5]]\n",
    "train_dogs_dirs = [('./dataset/train/train{i}/005_dog') for i in [1, 2, 3, 5]]\n",
    "val_cats_dir = './dataset/validation/train4/003_cat'\n",
    "val_dogs_dir = './dataset/validation/train4/005_dog'\n",
    "test_cats_dir = './dataset/test/test/003_cat'\n",
    "test_dogs_dir = './dataset/test/test/005_dog'\n",
    "print('total training cat images:', len(os.listdir(train_cats_dirs)))\n",
    "print('total training dog images:', len(os.listdir(train_dogs_dirs)))\n",
    "print('total validation cat images:', len(os.listdir(val_cats_dir)))\n",
    "print('total validation dog images:', len(os.listdir(val_dogs_dir)))\n",
    "print('total testing cat images:', len(os.listdir(test_cats_dir)))\n",
    "print('total testing dog images:', len(os.listdir(test_dogs_dir)))"
   ]
  }
 ],
 "metadata": {
  "kernelspec": {
   "display_name": "Python 3",
   "language": "python",
   "name": "python3"
  },
  "language_info": {
   "name": "python",
   "version": "3.10.12"
  }
 },
 "nbformat": 4,
 "nbformat_minor": 2
}

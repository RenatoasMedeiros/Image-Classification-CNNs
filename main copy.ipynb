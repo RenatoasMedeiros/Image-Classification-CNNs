#Import libraries
from keras.models import Sequential, load_model
from keras.layers import Activation, Dropout, Flatten, Dense, Rescaling, BatchNormalization, Conv2D, MaxPooling2D, SpatialDropout2D, AveragePooling2D
from keras.callbacks import ModelCheckpoint
from numpy import load
from tensorboard import version
#para limpeza da sessão
import keras.backend as K
from keras.preprocessing import image
from sklearn.model_selection import train_test_split, KFold
from sklearn.metrics import precision_score, recall_score, f1_score, confusion_matrix, ConfusionMatrixDisplay, accuracy_score

import os, datetime
import numpy as np
import tensorflow as tf
import matplotlib.pyplot as plt
import sklearn.datasets

WMethod = 1 # see the argument of getInitialier().
NLayer_ini = 1 # Inicial hidden layer number 
NLayermax = 2 #show -1 HLayers than this number
deltaNLayer = 1 # Delta increment for hidden layers
NEpochs = 11 # Epochs number
n_folds = 2  # Folders number. Should be higher than 2
N_neuronio = 10 #4096 #567 #128 #2*567 # Neurons number #attention
Batch_len = 64   # Batch Size number

Xinput = 784 #28*28 # Input number
Youtput = 10  # Output number
Namostra= 10000  # Samples number for test validation